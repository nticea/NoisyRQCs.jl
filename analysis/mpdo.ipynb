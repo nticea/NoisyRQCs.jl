{
 "cells": [
  {
   "cell_type": "code",
   "execution_count": null,
   "metadata": {},
   "outputs": [],
   "source": [
    "using Plots, StatsPlots\n",
    "using DataFrames\n",
    "using CSV\n",
    "using Statistics"
   ]
  },
  {
   "cell_type": "code",
   "execution_count": null,
   "metadata": {},
   "outputs": [],
   "source": [
    "combpath = \"../data/combined-cluster.csv\"\n",
    "df = CSV.File(combpath) |> DataFrame\n",
    "@show names(df)\n",
    "@show eltype.(eachcol(df));"
   ]
  },
  {
   "cell_type": "code",
   "execution_count": null,
   "metadata": {},
   "outputs": [],
   "source": [
    "# Flatten sweep data\n",
    "strtovec(str) = parse.(Float64,split(chop(str,head=1),\",\"))\n",
    "df.lnsvec = strtovec.(df.lns)\n",
    "df.misvec = strtovec.(df.mis)\n",
    "\n",
    "# Due to a bug in the metric code where the first L elements in mis and lns are undef,\n",
    "# we take the last L - 2 elements from each \n",
    "df.sweeplen = df.L .- 2\n",
    "df.rawlen = length.(df.lnsvec)\n",
    "df.lnsvec = getindex.(df.lnsvec, range.(df.rawlen .- df.sweeplen .+ 1, df.rawlen))\n",
    "df.misvec = getindex.(df.misvec, range.(df.rawlen .- df.sweeplen .+ 1, df.rawlen))\n",
    "\n",
    "# Explode the df so there is only one mi and ln value per record\n",
    "df.sweepind = collect.(range.(1, df.sweeplen))\n",
    "df = flatten(df, :sweepind)\n",
    "df.ln = getindex.(df.lnsvec, df.sweepind)\n",
    "df.mi = getindex.(df.misvec, df.sweepind)\n",
    "\n",
    "# Drop unnecessary columns\n",
    "select!(df, Not([:lns, :mis, :lnsvec, :misvec, :rawlen]))"
   ]
  },
  {
   "cell_type": "code",
   "execution_count": null,
   "metadata": {},
   "outputs": [],
   "source": [
    "dfL = df[df.L .== 25, :]\n",
    "params = [:T, :L, :inner, :noise, :outer]\n",
    "metrics = [:trace, :svn, :mi, :ln]\n",
    "means = combine(groupby(dfL, [params..., :t]), metrics .=> mean, metrics .=> std)\n",
    "sort!(means, [:t, :L])"
   ]
  },
  {
   "cell_type": "code",
   "execution_count": null,
   "metadata": {},
   "outputs": [],
   "source": [
    "@df means plot(:t, :trace_mean, group=:inner, ribbon=:trace_std, title=\"Trace\", xlabel=\"T\", ylabel=\"Trace\")"
   ]
  },
  {
   "cell_type": "code",
   "execution_count": null,
   "metadata": {},
   "outputs": [],
   "source": [
    "@df means plot(:t, :svn_mean, group=:inner, ribbon=:svn_std, title=\"SvN\", xlabel=\"T\", ylabel=\"SvN\", leg_title=\"Inner\")"
   ]
  },
  {
   "cell_type": "markdown",
   "metadata": {},
   "source": [
    "## Sweep data"
   ]
  },
  {
   "cell_type": "code",
   "execution_count": null,
   "metadata": {},
   "outputs": [],
   "source": [
    "sweepmeans = combine(groupby(dfL, [params..., :t, :sweepind]), metrics .=> mean, metrics .=> std)\n",
    "sort!(sweepmeans, [:t, :sweepind, :L])"
   ]
  },
  {
   "cell_type": "code",
   "execution_count": null,
   "metadata": {},
   "outputs": [],
   "source": [
    "data = sweepmeans[(sweepmeans.t .== 8) .& (sweepmeans.inner .== 1), :]\n",
    "@df data scatter(:sweepind, :ln_mean, ribbon=:ln_std, group=:inner)"
   ]
  }
 ],
 "metadata": {
  "kernelspec": {
   "display_name": "Julia 1.9.3",
   "language": "julia",
   "name": "julia-1.9"
  },
  "language_info": {
   "file_extension": ".jl",
   "mimetype": "application/julia",
   "name": "julia",
   "version": "1.9.3"
  }
 },
 "nbformat": 4,
 "nbformat_minor": 2
}
